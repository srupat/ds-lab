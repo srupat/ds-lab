{
 "cells": [
  {
   "cell_type": "code",
   "execution_count": 1,
   "metadata": {
    "vscode": {
     "languageId": "r"
    }
   },
   "outputs": [
    {
     "name": "stdout",
     "output_type": "stream",
     "text": [
      "\n",
      "Question 1:\n",
      "\n",
      "mean is : 9965.001\n",
      "Standard deviation is : 132.1739\n",
      "standard error is : 18.69222\n",
      "probability is : 0.03057603\n",
      "Claim can be rejected for 0.05\n",
      "Claim cannot be rejected for 0.01"
     ]
    }
   ],
   "source": [
    "f<-read.csv(\"Hypothesis_csv1.csv\")\n",
    "\n",
    "m<-mean(f$Life_Hrs)\n",
    "cat(\"\\nQuestion 1:\\n\\nmean is :\",m)\n",
    "\n",
    "sd1<-sd(f$Life_Hrs)\n",
    "cat(\"\\nStandard deviation is :\",sd1)\n",
    "\n",
    "se<-sd1/sqrt(50)\n",
    "cat(\"\\nstandard error is :\",se)\n",
    "\n",
    "\n",
    "\n",
    "p1<-pnorm(m,10000,se)\n",
    "cat(\"\\nprobability is :\",p1)\n",
    "\n",
    "if(p1<0.05)\n",
    "{\n",
    "  cat(\"\\nClaim can be rejected for 0.05\")\n",
    "}else\n",
    "{\n",
    "  cat(\"\\nClaim cannot be rejected for 0.05\")\n",
    "}\n",
    "\n",
    "\n",
    "if(p1<0.01)\n",
    "{\n",
    "  cat(\"\\nClaim can be rejected for 0.01\")\n",
    "}else\n",
    "{\n",
    "  cat(\"\\nClaim cannot be rejected for 0.01\")\n",
    "}\n"
   ]
  },
  {
   "cell_type": "code",
   "execution_count": 1,
   "metadata": {
    "vscode": {
     "languageId": "r"
    }
   },
   "outputs": [
    {
     "name": "stdout",
     "output_type": "stream",
     "text": [
      "\n",
      "\n",
      "Question 2:\n",
      "\n",
      "probability is : 0.1639167\n",
      "Standard error is : 2.873524\n",
      "Null hypothesis cannot be rejected for 0.05 \n",
      "Null hypothesis cannot be rejected for 0.01 "
     ]
    }
   ],
   "source": [
    "se2<-17/sqrt(35)\n",
    "\n",
    "p2<-pnorm(134,130,se2, lower.tail =F)*2\n",
    "cat(\"\\n\\nQuestion 2:\\n\\nprobability is :\",p2)\n",
    "cat(\"\\nStandard error is :\",se2)\n",
    "\n",
    "if(p2<0.05)\n",
    "{\n",
    "  cat(\"\\nNull hypothesis can be rejected for 0.05 \")\n",
    "}else\n",
    "{\n",
    "  cat(\"\\nNull hypothesis cannot be rejected for 0.05 \")\n",
    "}\n",
    "\n",
    "if(p2<0.01)\n",
    "{\n",
    "  cat(\"\\nNull hypothesis can be rejected for 0.01 \")\n",
    "}else\n",
    "{\n",
    "  cat(\"\\nNull hypothesis cannot be rejected for 0.01 \")\n",
    "}"
   ]
  }
 ],
 "metadata": {
  "kernelspec": {
   "display_name": "R",
   "language": "R",
   "name": "ir"
  },
  "language_info": {
   "codemirror_mode": "r",
   "file_extension": ".r",
   "mimetype": "text/x-r-source",
   "name": "R",
   "pygments_lexer": "r",
   "version": "4.3.2"
  }
 },
 "nbformat": 4,
 "nbformat_minor": 2
}
