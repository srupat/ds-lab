{
 "cells": [
  {
   "cell_type": "markdown",
   "metadata": {},
   "source": [
    "## Loading the dataset"
   ]
  },
  {
   "cell_type": "code",
   "execution_count": 2,
   "metadata": {
    "vscode": {
     "languageId": "r"
    }
   },
   "outputs": [],
   "source": [
    "f<-read.csv(\"travelled abroad_csv.csv\")"
   ]
  },
  {
   "cell_type": "markdown",
   "metadata": {},
   "source": [
    "Find out the % of Indians in the sample who have travelled abroad using the data source"
   ]
  },
  {
   "cell_type": "code",
   "execution_count": 3,
   "metadata": {
    "vscode": {
     "languageId": "r"
    }
   },
   "outputs": [
    {
     "name": "stdout",
     "output_type": "stream",
     "text": [
      "Percentage of people travelled abroad : 56"
     ]
    }
   ],
   "source": [
    "per<-100*(sum (f$Travelledabroad ==\"Y\" ))/150\n",
    "cat(\"Percentage of people travelled abroad :\",per)\n"
   ]
  },
  {
   "cell_type": "markdown",
   "metadata": {},
   "source": [
    "Treating this value as ‘p’, calculate the following probabilities \n",
    "\n",
    "What is the probability that in a randomly chosen sample of 10 persons, no one has travelled abroad?\n",
    "\n"
   ]
  },
  {
   "cell_type": "code",
   "execution_count": 5,
   "metadata": {
    "vscode": {
     "languageId": "r"
    }
   },
   "outputs": [
    {
     "name": "stdout",
     "output_type": "stream",
     "text": [
      "\n",
      "\n",
      "Probalility of success : 0.56\n",
      "\n",
      "probability for n = 10 by binomial distribution: 0.0002719736 0.003461482 0.01982485 0.06728435 0.1498606 0.228878 0.2427494 0.176545 0.08426012 0.02383115 0.003033055"
     ]
    }
   ],
   "source": [
    "p<-per/100\n",
    "cat(\"\\n\\nProbalility of success :\",p)\n",
    "\n",
    "k<-0:10\n",
    "d1<-dbinom(k,10,p)\n",
    "cat(\"\\n\\nprobability for n = 10 by binomial distribution:\",d1)"
   ]
  },
  {
   "cell_type": "markdown",
   "metadata": {},
   "source": [
    "Plot the probability values as a Table / Bar graph/plot and interpret plot."
   ]
  },
  {
   "cell_type": "code",
   "execution_count": 6,
   "metadata": {
    "vscode": {
     "languageId": "r"
    }
   },
   "outputs": [
    {
     "data": {
      "image/png": "[encoded data removed]",
      "text/plain": [
       "plot without title"
      ]
     },
     "metadata": {
      "image/png": {
       "height": 420,
       "width": 420
      }
     },
     "output_type": "display_data"
    }
   ],
   "source": [
    "plot(k,d1,type =\"l\")"
   ]
  },
  {
   "cell_type": "markdown",
   "metadata": {},
   "source": [
    "What is the probability that in the randomly chosen sample of 100 persons at least 59 have travelled abroad?  "
   ]
  },
  {
   "cell_type": "code",
   "execution_count": 7,
   "metadata": {
    "vscode": {
     "languageId": "r"
    }
   },
   "outputs": [
    {
     "name": "stdout",
     "output_type": "stream",
     "text": [
      "\n",
      "\n",
      "Probability per n =100 by binomial distribution : 0.3084356"
     ]
    },
    {
     "data": {
      "image/png": "[encoded data removed]",
      "text/plain": [
       "plot without title"
      ]
     },
     "metadata": {
      "image/png": {
       "height": 420,
       "width": 420
      }
     },
     "output_type": "display_data"
    }
   ],
   "source": [
    "k1<-59:100\n",
    "d2<-dbinom(k1,100,p)\n",
    "pbd1<-sum(d2)\n",
    "cat(\"\\n\\nProbability per n =100 by binomial distribution :\",pbd1)\n",
    "d3<-dbinom(0:100,100,p)\n",
    "plot(0:100,d3,type=\"l\")"
   ]
  },
  {
   "cell_type": "code",
   "execution_count": 8,
   "metadata": {
    "vscode": {
     "languageId": "r"
    }
   },
   "outputs": [
    {
     "name": "stdout",
     "output_type": "stream",
     "text": [
      "\n",
      "\n",
      "mean is : 56\n",
      "std dev is : 4.963869"
     ]
    },
    {
     "data": {
      "text/html": [
       "0.727200238812017"
      ],
      "text/latex": [
       "0.727200238812017"
      ],
      "text/markdown": [
       "0.727200238812017"
      ],
      "text/plain": [
       "[1] 0.7272002"
      ]
     },
     "metadata": {},
     "output_type": "display_data"
    },
    {
     "name": "stdout",
     "output_type": "stream",
     "text": [
      "\n",
      "\n",
      "Probability for n = 100 by normal distribution : 0.2727998"
     ]
    }
   ],
   "source": [
    "m<-100*p\n",
    "sd1<-sqrt(100*p*(1-p))\n",
    "cat(\"\\n\\nmean is :\",m)\n",
    "cat(\"\\nstd dev is :\",sd1)\n",
    "pnorm(59,m,sd1)\n",
    "pnd1<-pnorm(59,m,sd1, lower.tail = F)\n",
    "cat(\"\\n\\nProbability for n = 100 by normal distribution :\",pnd1)"
   ]
  }
 ],
 "metadata": {
  "kernelspec": {
   "display_name": "R",
   "language": "R",
   "name": "ir"
  },
  "language_info": {
   "codemirror_mode": "r",
   "file_extension": ".r",
   "mimetype": "text/x-r-source",
   "name": "R",
   "pygments_lexer": "r",
   "version": "4.3.2"
  }
 },
 "nbformat": 4,
 "nbformat_minor": 2
}
