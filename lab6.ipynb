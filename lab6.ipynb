{
 "cells": [
  {
   "cell_type": "code",
   "execution_count": 1,
   "metadata": {
    "vscode": {
     "languageId": "r"
    }
   },
   "outputs": [
    {
     "data": {
      "text/html": [
       "'data.frame'"
      ],
      "text/latex": [
       "'data.frame'"
      ],
      "text/markdown": [
       "'data.frame'"
      ],
      "text/plain": [
       "[1] \"data.frame\""
      ]
     },
     "metadata": {},
     "output_type": "display_data"
    },
    {
     "name": "stdout",
     "output_type": "stream",
     "text": [
      "      predicted\n",
      "actual  B  M\n",
      "     B 50  1\n",
      "     M  3 46\n",
      "Accuracy is:  0.96\n",
      "sensitivity is : 0.9387755\n",
      " Specificity is : 0.9803922\n",
      "Precision is : 0.9787234"
     ]
    }
   ],
   "source": [
    "f1<-read.csv(\"wbc_csv.csv\")\n",
    "\n",
    "set.seed(123)\n",
    "f1<-f1[sample(nrow(f1)),]\n",
    "\n",
    "f1_new<-f1[,3:32]\n",
    "n<-function(b){\n",
    "\t(b-min(b))/(max(b)-min(b))\n",
    "}\n",
    "f1_nor<-as.data.frame(lapply(f1_new,n))\n",
    "class(f1_nor)\n",
    "\n",
    "f1_train<- f1_nor[1:469,]\n",
    "f1_test <- f1_nor[470:569,]\n",
    "f1_trainlabel <- f1[1:469,2]\n",
    "f1_testlabel <- f1[470:569,2]\n",
    "library(class)\n",
    "p<- knn(f1_train,f1_test,f1_trainlabel,k=3)\n",
    "\n",
    "t <- table(actual=f1_testlabel,predicted = p)\n",
    "print(t)\n",
    "\n",
    "acc <- sum(diag(t)/sum(t))\n",
    "cat(\"Accuracy is: \",acc)\n",
    "\n",
    "\n",
    "sen<-t[2,2]/sum(t[2,])\n",
    "cat(\"\\nsensitivity is :\",sen)\n",
    "\n",
    "spe<-t[1,1]/sum(t[1,])\n",
    "cat(\"\\n Specificity is :\",spe)\n",
    "\n",
    "\n",
    "pre<-t[2,2]/sum(t[,2])\n",
    "cat(\"\\nPrecision is :\",pre)"
   ]
  }
 ],
 "metadata": {
  "kernelspec": {
   "display_name": "R",
   "language": "R",
   "name": "ir"
  },
  "language_info": {
   "codemirror_mode": "r",
   "file_extension": ".r",
   "mimetype": "text/x-r-source",
   "name": "R",
   "pygments_lexer": "r",
   "version": "4.3.2"
  }
 },
 "nbformat": 4,
 "nbformat_minor": 2
}
