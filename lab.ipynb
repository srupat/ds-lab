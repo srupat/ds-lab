{
 "cells": [
  {
   "cell_type": "code",
   "execution_count": 1,
   "metadata": {
    "vscode": {
     "languageId": "r"
    }
   },
   "outputs": [
    {
     "name": "stdout",
     "output_type": "stream",
     "text": [
      "[1] 30\n"
     ]
    }
   ],
   "source": [
    "a <- 10\n",
    "b <- 20\n",
    "print(a+b)"
   ]
  },
  {
   "cell_type": "code",
   "execution_count": 2,
   "metadata": {
    "vscode": {
     "languageId": "r"
    }
   },
   "outputs": [
    {
     "name": "stdout",
     "output_type": "stream",
     "text": [
      "    name roll_no\n",
      "1 Srujan      72\n",
      "2      X      56\n",
      "3      Y      77\n"
     ]
    }
   ],
   "source": [
    "df <- data.frame(name=c(\"Srujan\", \"X\", \"Y\"), roll_no=c(72, 56, 77))\n",
    "print(df)"
   ]
  },
  {
   "cell_type": "markdown",
   "metadata": {},
   "source": [
    "### Installation"
   ]
  },
  {
   "cell_type": "code",
   "execution_count": 8,
   "metadata": {
    "vscode": {
     "languageId": "r"
    }
   },
   "outputs": [
    {
     "name": "stderr",
     "output_type": "stream",
     "text": [
      "Installing package into 'C:/Users/sruja/AppData/Local/R/win-library/4.3'\n",
      "(as 'lib' is unspecified)\n",
      "\n"
     ]
    },
    {
     "name": "stderr",
     "output_type": "stream",
     "text": [
      "Warning message:\n",
      "\"package 'dslab' is not available for this version of R\n",
      "\n",
      "A version of this package for your version of R might be available elsewhere,\n",
      "see the ideas at\n",
      "https://cran.r-project.org/doc/manuals/r-patched/R-admin.html#Installing-packages\"\n",
      "Installing package into 'C:/Users/sruja/AppData/Local/R/win-library/4.3'\n",
      "(as 'lib' is unspecified)\n",
      "\n"
     ]
    },
    {
     "name": "stdout",
     "output_type": "stream",
     "text": [
      "package 'ggplot2' successfully unpacked and MD5 sums checked\n",
      "\n",
      "The downloaded binary packages are in\n",
      "\tC:\\Users\\sruja\\AppData\\Local\\Temp\\RtmpUT0QpQ\\downloaded_packages\n"
     ]
    }
   ],
   "source": [
    "install.packages(\"dslab\")\n",
    "install.packages(\"ggplot2\")"
   ]
  },
  {
   "cell_type": "code",
   "execution_count": 9,
   "metadata": {
    "vscode": {
     "languageId": "r"
    }
   },
   "outputs": [
    {
     "data": {
      "text/html": [
       "<table class=\"dataframe\">\n",
       "<caption>A data.frame: 153 × 6</caption>\n",
       "<thead>\n",
       "\t<tr><th scope=col>Ozone</th><th scope=col>Solar.R</th><th scope=col>Wind</th><th scope=col>Temp</th><th scope=col>Month</th><th scope=col>Day</th></tr>\n",
       "\t<tr><th scope=col>&lt;int&gt;</th><th scope=col>&lt;int&gt;</th><th scope=col>&lt;dbl&gt;</th><th scope=col>&lt;int&gt;</th><th scope=col>&lt;int&gt;</th><th scope=col>&lt;int&gt;</th></tr>\n",
       "</thead>\n",
       "<tbody>\n",
       "\t<tr><td> 41</td><td>190</td><td> 7.4</td><td>67</td><td>5</td><td> 1</td></tr>\n",
       "\t<tr><td> 36</td><td>118</td><td> 8.0</td><td>72</td><td>5</td><td> 2</td></tr>\n",
       "\t<tr><td> 12</td><td>149</td><td>12.6</td><td>74</td><td>5</td><td> 3</td></tr>\n",
       "\t<tr><td> 18</td><td>313</td><td>11.5</td><td>62</td><td>5</td><td> 4</td></tr>\n",
       "\t<tr><td> NA</td><td> NA</td><td>14.3</td><td>56</td><td>5</td><td> 5</td></tr>\n",
       "\t<tr><td> 28</td><td> NA</td><td>14.9</td><td>66</td><td>5</td><td> 6</td></tr>\n",
       "\t<tr><td> 23</td><td>299</td><td> 8.6</td><td>65</td><td>5</td><td> 7</td></tr>\n",
       "\t<tr><td> 19</td><td> 99</td><td>13.8</td><td>59</td><td>5</td><td> 8</td></tr>\n",
       "\t<tr><td>  8</td><td> 19</td><td>20.1</td><td>61</td><td>5</td><td> 9</td></tr>\n",
       "\t<tr><td> NA</td><td>194</td><td> 8.6</td><td>69</td><td>5</td><td>10</td></tr>\n",
       "\t<tr><td>  7</td><td> NA</td><td> 6.9</td><td>74</td><td>5</td><td>11</td></tr>\n",
       "\t<tr><td> 16</td><td>256</td><td> 9.7</td><td>69</td><td>5</td><td>12</td></tr>\n",
       "\t<tr><td> 11</td><td>290</td><td> 9.2</td><td>66</td><td>5</td><td>13</td></tr>\n",
       "\t<tr><td> 14</td><td>274</td><td>10.9</td><td>68</td><td>5</td><td>14</td></tr>\n",
       "\t<tr><td> 18</td><td> 65</td><td>13.2</td><td>58</td><td>5</td><td>15</td></tr>\n",
       "\t<tr><td> 14</td><td>334</td><td>11.5</td><td>64</td><td>5</td><td>16</td></tr>\n",
       "\t<tr><td> 34</td><td>307</td><td>12.0</td><td>66</td><td>5</td><td>17</td></tr>\n",
       "\t<tr><td>  6</td><td> 78</td><td>18.4</td><td>57</td><td>5</td><td>18</td></tr>\n",
       "\t<tr><td> 30</td><td>322</td><td>11.5</td><td>68</td><td>5</td><td>19</td></tr>\n",
       "\t<tr><td> 11</td><td> 44</td><td> 9.7</td><td>62</td><td>5</td><td>20</td></tr>\n",
       "\t<tr><td>  1</td><td>  8</td><td> 9.7</td><td>59</td><td>5</td><td>21</td></tr>\n",
       "\t<tr><td> 11</td><td>320</td><td>16.6</td><td>73</td><td>5</td><td>22</td></tr>\n",
       "\t<tr><td>  4</td><td> 25</td><td> 9.7</td><td>61</td><td>5</td><td>23</td></tr>\n",
       "\t<tr><td> 32</td><td> 92</td><td>12.0</td><td>61</td><td>5</td><td>24</td></tr>\n",
       "\t<tr><td> NA</td><td> 66</td><td>16.6</td><td>57</td><td>5</td><td>25</td></tr>\n",
       "\t<tr><td> NA</td><td>266</td><td>14.9</td><td>58</td><td>5</td><td>26</td></tr>\n",
       "\t<tr><td> NA</td><td> NA</td><td> 8.0</td><td>57</td><td>5</td><td>27</td></tr>\n",
       "\t<tr><td> 23</td><td> 13</td><td>12.0</td><td>67</td><td>5</td><td>28</td></tr>\n",
       "\t<tr><td> 45</td><td>252</td><td>14.9</td><td>81</td><td>5</td><td>29</td></tr>\n",
       "\t<tr><td>115</td><td>223</td><td> 5.7</td><td>79</td><td>5</td><td>30</td></tr>\n",
       "\t<tr><td>⋮</td><td>⋮</td><td>⋮</td><td>⋮</td><td>⋮</td><td>⋮</td></tr>\n",
       "\t<tr><td>96</td><td>167</td><td> 6.9</td><td>91</td><td>9</td><td> 1</td></tr>\n",
       "\t<tr><td>78</td><td>197</td><td> 5.1</td><td>92</td><td>9</td><td> 2</td></tr>\n",
       "\t<tr><td>73</td><td>183</td><td> 2.8</td><td>93</td><td>9</td><td> 3</td></tr>\n",
       "\t<tr><td>91</td><td>189</td><td> 4.6</td><td>93</td><td>9</td><td> 4</td></tr>\n",
       "\t<tr><td>47</td><td> 95</td><td> 7.4</td><td>87</td><td>9</td><td> 5</td></tr>\n",
       "\t<tr><td>32</td><td> 92</td><td>15.5</td><td>84</td><td>9</td><td> 6</td></tr>\n",
       "\t<tr><td>20</td><td>252</td><td>10.9</td><td>80</td><td>9</td><td> 7</td></tr>\n",
       "\t<tr><td>23</td><td>220</td><td>10.3</td><td>78</td><td>9</td><td> 8</td></tr>\n",
       "\t<tr><td>21</td><td>230</td><td>10.9</td><td>75</td><td>9</td><td> 9</td></tr>\n",
       "\t<tr><td>24</td><td>259</td><td> 9.7</td><td>73</td><td>9</td><td>10</td></tr>\n",
       "\t<tr><td>44</td><td>236</td><td>14.9</td><td>81</td><td>9</td><td>11</td></tr>\n",
       "\t<tr><td>21</td><td>259</td><td>15.5</td><td>76</td><td>9</td><td>12</td></tr>\n",
       "\t<tr><td>28</td><td>238</td><td> 6.3</td><td>77</td><td>9</td><td>13</td></tr>\n",
       "\t<tr><td> 9</td><td> 24</td><td>10.9</td><td>71</td><td>9</td><td>14</td></tr>\n",
       "\t<tr><td>13</td><td>112</td><td>11.5</td><td>71</td><td>9</td><td>15</td></tr>\n",
       "\t<tr><td>46</td><td>237</td><td> 6.9</td><td>78</td><td>9</td><td>16</td></tr>\n",
       "\t<tr><td>18</td><td>224</td><td>13.8</td><td>67</td><td>9</td><td>17</td></tr>\n",
       "\t<tr><td>13</td><td> 27</td><td>10.3</td><td>76</td><td>9</td><td>18</td></tr>\n",
       "\t<tr><td>24</td><td>238</td><td>10.3</td><td>68</td><td>9</td><td>19</td></tr>\n",
       "\t<tr><td>16</td><td>201</td><td> 8.0</td><td>82</td><td>9</td><td>20</td></tr>\n",
       "\t<tr><td>13</td><td>238</td><td>12.6</td><td>64</td><td>9</td><td>21</td></tr>\n",
       "\t<tr><td>23</td><td> 14</td><td> 9.2</td><td>71</td><td>9</td><td>22</td></tr>\n",
       "\t<tr><td>36</td><td>139</td><td>10.3</td><td>81</td><td>9</td><td>23</td></tr>\n",
       "\t<tr><td> 7</td><td> 49</td><td>10.3</td><td>69</td><td>9</td><td>24</td></tr>\n",
       "\t<tr><td>14</td><td> 20</td><td>16.6</td><td>63</td><td>9</td><td>25</td></tr>\n",
       "\t<tr><td>30</td><td>193</td><td> 6.9</td><td>70</td><td>9</td><td>26</td></tr>\n",
       "\t<tr><td>NA</td><td>145</td><td>13.2</td><td>77</td><td>9</td><td>27</td></tr>\n",
       "\t<tr><td>14</td><td>191</td><td>14.3</td><td>75</td><td>9</td><td>28</td></tr>\n",
       "\t<tr><td>18</td><td>131</td><td> 8.0</td><td>76</td><td>9</td><td>29</td></tr>\n",
       "\t<tr><td>20</td><td>223</td><td>11.5</td><td>68</td><td>9</td><td>30</td></tr>\n",
       "</tbody>\n",
       "</table>\n"
      ],
      "text/latex": [
       "A data.frame: 153 × 6\n",
       "\\begin{tabular}{llllll}\n",
       " Ozone & Solar.R & Wind & Temp & Month & Day\\\\\n",
       " <int> & <int> & <dbl> & <int> & <int> & <int>\\\\\n",
       "\\hline\n",
       "\t  41 & 190 &  7.4 & 67 & 5 &  1\\\\\n",
       "\t  36 & 118 &  8.0 & 72 & 5 &  2\\\\\n",
       "\t  12 & 149 & 12.6 & 74 & 5 &  3\\\\\n",
       "\t  18 & 313 & 11.5 & 62 & 5 &  4\\\\\n",
       "\t  NA &  NA & 14.3 & 56 & 5 &  5\\\\\n",
       "\t  28 &  NA & 14.9 & 66 & 5 &  6\\\\\n",
       "\t  23 & 299 &  8.6 & 65 & 5 &  7\\\\\n",
       "\t  19 &  99 & 13.8 & 59 & 5 &  8\\\\\n",
       "\t   8 &  19 & 20.1 & 61 & 5 &  9\\\\\n",
       "\t  NA & 194 &  8.6 & 69 & 5 & 10\\\\\n",
       "\t   7 &  NA &  6.9 & 74 & 5 & 11\\\\\n",
       "\t  16 & 256 &  9.7 & 69 & 5 & 12\\\\\n",
       "\t  11 & 290 &  9.2 & 66 & 5 & 13\\\\\n",
       "\t  14 & 274 & 10.9 & 68 & 5 & 14\\\\\n",
       "\t  18 &  65 & 13.2 & 58 & 5 & 15\\\\\n",
       "\t  14 & 334 & 11.5 & 64 & 5 & 16\\\\\n",
       "\t  34 & 307 & 12.0 & 66 & 5 & 17\\\\\n",
       "\t   6 &  78 & 18.4 & 57 & 5 & 18\\\\\n",
       "\t  30 & 322 & 11.5 & 68 & 5 & 19\\\\\n",
       "\t  11 &  44 &  9.7 & 62 & 5 & 20\\\\\n",
       "\t   1 &   8 &  9.7 & 59 & 5 & 21\\\\\n",
       "\t  11 & 320 & 16.6 & 73 & 5 & 22\\\\\n",
       "\t   4 &  25 &  9.7 & 61 & 5 & 23\\\\\n",
       "\t  32 &  92 & 12.0 & 61 & 5 & 24\\\\\n",
       "\t  NA &  66 & 16.6 & 57 & 5 & 25\\\\\n",
       "\t  NA & 266 & 14.9 & 58 & 5 & 26\\\\\n",
       "\t  NA &  NA &  8.0 & 57 & 5 & 27\\\\\n",
       "\t  23 &  13 & 12.0 & 67 & 5 & 28\\\\\n",
       "\t  45 & 252 & 14.9 & 81 & 5 & 29\\\\\n",
       "\t 115 & 223 &  5.7 & 79 & 5 & 30\\\\\n",
       "\t ⋮ & ⋮ & ⋮ & ⋮ & ⋮ & ⋮\\\\\n",
       "\t 96 & 167 &  6.9 & 91 & 9 &  1\\\\\n",
       "\t 78 & 197 &  5.1 & 92 & 9 &  2\\\\\n",
       "\t 73 & 183 &  2.8 & 93 & 9 &  3\\\\\n",
       "\t 91 & 189 &  4.6 & 93 & 9 &  4\\\\\n",
       "\t 47 &  95 &  7.4 & 87 & 9 &  5\\\\\n",
       "\t 32 &  92 & 15.5 & 84 & 9 &  6\\\\\n",
       "\t 20 & 252 & 10.9 & 80 & 9 &  7\\\\\n",
       "\t 23 & 220 & 10.3 & 78 & 9 &  8\\\\\n",
       "\t 21 & 230 & 10.9 & 75 & 9 &  9\\\\\n",
       "\t 24 & 259 &  9.7 & 73 & 9 & 10\\\\\n",
       "\t 44 & 236 & 14.9 & 81 & 9 & 11\\\\\n",
       "\t 21 & 259 & 15.5 & 76 & 9 & 12\\\\\n",
       "\t 28 & 238 &  6.3 & 77 & 9 & 13\\\\\n",
       "\t  9 &  24 & 10.9 & 71 & 9 & 14\\\\\n",
       "\t 13 & 112 & 11.5 & 71 & 9 & 15\\\\\n",
       "\t 46 & 237 &  6.9 & 78 & 9 & 16\\\\\n",
       "\t 18 & 224 & 13.8 & 67 & 9 & 17\\\\\n",
       "\t 13 &  27 & 10.3 & 76 & 9 & 18\\\\\n",
       "\t 24 & 238 & 10.3 & 68 & 9 & 19\\\\\n",
       "\t 16 & 201 &  8.0 & 82 & 9 & 20\\\\\n",
       "\t 13 & 238 & 12.6 & 64 & 9 & 21\\\\\n",
       "\t 23 &  14 &  9.2 & 71 & 9 & 22\\\\\n",
       "\t 36 & 139 & 10.3 & 81 & 9 & 23\\\\\n",
       "\t  7 &  49 & 10.3 & 69 & 9 & 24\\\\\n",
       "\t 14 &  20 & 16.6 & 63 & 9 & 25\\\\\n",
       "\t 30 & 193 &  6.9 & 70 & 9 & 26\\\\\n",
       "\t NA & 145 & 13.2 & 77 & 9 & 27\\\\\n",
       "\t 14 & 191 & 14.3 & 75 & 9 & 28\\\\\n",
       "\t 18 & 131 &  8.0 & 76 & 9 & 29\\\\\n",
       "\t 20 & 223 & 11.5 & 68 & 9 & 30\\\\\n",
       "\\end{tabular}\n"
      ],
      "text/markdown": [
       "\n",
       "A data.frame: 153 × 6\n",
       "\n",
       "| Ozone &lt;int&gt; | Solar.R &lt;int&gt; | Wind &lt;dbl&gt; | Temp &lt;int&gt; | Month &lt;int&gt; | Day &lt;int&gt; |\n",
       "|---|---|---|---|---|---|\n",
       "|  41 | 190 |  7.4 | 67 | 5 |  1 |\n",
       "|  36 | 118 |  8.0 | 72 | 5 |  2 |\n",
       "|  12 | 149 | 12.6 | 74 | 5 |  3 |\n",
       "|  18 | 313 | 11.5 | 62 | 5 |  4 |\n",
       "|  NA |  NA | 14.3 | 56 | 5 |  5 |\n",
       "|  28 |  NA | 14.9 | 66 | 5 |  6 |\n",
       "|  23 | 299 |  8.6 | 65 | 5 |  7 |\n",
       "|  19 |  99 | 13.8 | 59 | 5 |  8 |\n",
       "|   8 |  19 | 20.1 | 61 | 5 |  9 |\n",
       "|  NA | 194 |  8.6 | 69 | 5 | 10 |\n",
       "|   7 |  NA |  6.9 | 74 | 5 | 11 |\n",
       "|  16 | 256 |  9.7 | 69 | 5 | 12 |\n",
       "|  11 | 290 |  9.2 | 66 | 5 | 13 |\n",
       "|  14 | 274 | 10.9 | 68 | 5 | 14 |\n",
       "|  18 |  65 | 13.2 | 58 | 5 | 15 |\n",
       "|  14 | 334 | 11.5 | 64 | 5 | 16 |\n",
       "|  34 | 307 | 12.0 | 66 | 5 | 17 |\n",
       "|   6 |  78 | 18.4 | 57 | 5 | 18 |\n",
       "|  30 | 322 | 11.5 | 68 | 5 | 19 |\n",
       "|  11 |  44 |  9.7 | 62 | 5 | 20 |\n",
       "|   1 |   8 |  9.7 | 59 | 5 | 21 |\n",
       "|  11 | 320 | 16.6 | 73 | 5 | 22 |\n",
       "|   4 |  25 |  9.7 | 61 | 5 | 23 |\n",
       "|  32 |  92 | 12.0 | 61 | 5 | 24 |\n",
       "|  NA |  66 | 16.6 | 57 | 5 | 25 |\n",
       "|  NA | 266 | 14.9 | 58 | 5 | 26 |\n",
       "|  NA |  NA |  8.0 | 57 | 5 | 27 |\n",
       "|  23 |  13 | 12.0 | 67 | 5 | 28 |\n",
       "|  45 | 252 | 14.9 | 81 | 5 | 29 |\n",
       "| 115 | 223 |  5.7 | 79 | 5 | 30 |\n",
       "| ⋮ | ⋮ | ⋮ | ⋮ | ⋮ | ⋮ |\n",
       "| 96 | 167 |  6.9 | 91 | 9 |  1 |\n",
       "| 78 | 197 |  5.1 | 92 | 9 |  2 |\n",
       "| 73 | 183 |  2.8 | 93 | 9 |  3 |\n",
       "| 91 | 189 |  4.6 | 93 | 9 |  4 |\n",
       "| 47 |  95 |  7.4 | 87 | 9 |  5 |\n",
       "| 32 |  92 | 15.5 | 84 | 9 |  6 |\n",
       "| 20 | 252 | 10.9 | 80 | 9 |  7 |\n",
       "| 23 | 220 | 10.3 | 78 | 9 |  8 |\n",
       "| 21 | 230 | 10.9 | 75 | 9 |  9 |\n",
       "| 24 | 259 |  9.7 | 73 | 9 | 10 |\n",
       "| 44 | 236 | 14.9 | 81 | 9 | 11 |\n",
       "| 21 | 259 | 15.5 | 76 | 9 | 12 |\n",
       "| 28 | 238 |  6.3 | 77 | 9 | 13 |\n",
       "|  9 |  24 | 10.9 | 71 | 9 | 14 |\n",
       "| 13 | 112 | 11.5 | 71 | 9 | 15 |\n",
       "| 46 | 237 |  6.9 | 78 | 9 | 16 |\n",
       "| 18 | 224 | 13.8 | 67 | 9 | 17 |\n",
       "| 13 |  27 | 10.3 | 76 | 9 | 18 |\n",
       "| 24 | 238 | 10.3 | 68 | 9 | 19 |\n",
       "| 16 | 201 |  8.0 | 82 | 9 | 20 |\n",
       "| 13 | 238 | 12.6 | 64 | 9 | 21 |\n",
       "| 23 |  14 |  9.2 | 71 | 9 | 22 |\n",
       "| 36 | 139 | 10.3 | 81 | 9 | 23 |\n",
       "|  7 |  49 | 10.3 | 69 | 9 | 24 |\n",
       "| 14 |  20 | 16.6 | 63 | 9 | 25 |\n",
       "| 30 | 193 |  6.9 | 70 | 9 | 26 |\n",
       "| NA | 145 | 13.2 | 77 | 9 | 27 |\n",
       "| 14 | 191 | 14.3 | 75 | 9 | 28 |\n",
       "| 18 | 131 |  8.0 | 76 | 9 | 29 |\n",
       "| 20 | 223 | 11.5 | 68 | 9 | 30 |\n",
       "\n"
      ],
      "text/plain": [
       "    Ozone Solar.R Wind Temp Month Day\n",
       "1    41   190      7.4 67   5      1 \n",
       "2    36   118      8.0 72   5      2 \n",
       "3    12   149     12.6 74   5      3 \n",
       "4    18   313     11.5 62   5      4 \n",
       "5    NA    NA     14.3 56   5      5 \n",
       "6    28    NA     14.9 66   5      6 \n",
       "7    23   299      8.6 65   5      7 \n",
       "8    19    99     13.8 59   5      8 \n",
       "9     8    19     20.1 61   5      9 \n",
       "10   NA   194      8.6 69   5     10 \n",
       "11    7    NA      6.9 74   5     11 \n",
       "12   16   256      9.7 69   5     12 \n",
       "13   11   290      9.2 66   5     13 \n",
       "14   14   274     10.9 68   5     14 \n",
       "15   18    65     13.2 58   5     15 \n",
       "16   14   334     11.5 64   5     16 \n",
       "17   34   307     12.0 66   5     17 \n",
       "18    6    78     18.4 57   5     18 \n",
       "19   30   322     11.5 68   5     19 \n",
       "20   11    44      9.7 62   5     20 \n",
       "21    1     8      9.7 59   5     21 \n",
       "22   11   320     16.6 73   5     22 \n",
       "23    4    25      9.7 61   5     23 \n",
       "24   32    92     12.0 61   5     24 \n",
       "25   NA    66     16.6 57   5     25 \n",
       "26   NA   266     14.9 58   5     26 \n",
       "27   NA    NA      8.0 57   5     27 \n",
       "28   23    13     12.0 67   5     28 \n",
       "29   45   252     14.9 81   5     29 \n",
       "30  115   223      5.7 79   5     30 \n",
       "⋮   ⋮     ⋮       ⋮    ⋮    ⋮     ⋮  \n",
       "124 96    167      6.9 91   9      1 \n",
       "125 78    197      5.1 92   9      2 \n",
       "126 73    183      2.8 93   9      3 \n",
       "127 91    189      4.6 93   9      4 \n",
       "128 47     95      7.4 87   9      5 \n",
       "129 32     92     15.5 84   9      6 \n",
       "130 20    252     10.9 80   9      7 \n",
       "131 23    220     10.3 78   9      8 \n",
       "132 21    230     10.9 75   9      9 \n",
       "133 24    259      9.7 73   9     10 \n",
       "134 44    236     14.9 81   9     11 \n",
       "135 21    259     15.5 76   9     12 \n",
       "136 28    238      6.3 77   9     13 \n",
       "137  9     24     10.9 71   9     14 \n",
       "138 13    112     11.5 71   9     15 \n",
       "139 46    237      6.9 78   9     16 \n",
       "140 18    224     13.8 67   9     17 \n",
       "141 13     27     10.3 76   9     18 \n",
       "142 24    238     10.3 68   9     19 \n",
       "143 16    201      8.0 82   9     20 \n",
       "144 13    238     12.6 64   9     21 \n",
       "145 23     14      9.2 71   9     22 \n",
       "146 36    139     10.3 81   9     23 \n",
       "147  7     49     10.3 69   9     24 \n",
       "148 14     20     16.6 63   9     25 \n",
       "149 30    193      6.9 70   9     26 \n",
       "150 NA    145     13.2 77   9     27 \n",
       "151 14    191     14.3 75   9     28 \n",
       "152 18    131      8.0 76   9     29 \n",
       "153 20    223     11.5 68   9     30 "
      ]
     },
     "metadata": {},
     "output_type": "display_data"
    }
   ],
   "source": [
    "df <- read.csv(\"pollutant_csv.csv\")\n",
    "df"
   ]
  },
  {
   "cell_type": "markdown",
   "metadata": {},
   "source": [
    "### Assignments"
   ]
  },
  {
   "cell_type": "code",
   "execution_count": 10,
   "metadata": {
    "vscode": {
     "languageId": "r"
    }
   },
   "outputs": [
    {
     "data": {
      "text/html": [
       "79.1"
      ],
      "text/latex": [
       "79.1"
      ],
      "text/markdown": [
       "79.1"
      ],
      "text/plain": [
       "[1] 79.1"
      ]
     },
     "metadata": {},
     "output_type": "display_data"
    }
   ],
   "source": [
    "mean_of_temp = mean(df$Temp[df$Month == 6])\n",
    "mean_of_temp"
   ]
  },
  {
   "cell_type": "code",
   "execution_count": 11,
   "metadata": {
    "vscode": {
     "languageId": "r"
    }
   },
   "outputs": [
    {
     "data": {
      "text/html": [
       "153"
      ],
      "text/latex": [
       "153"
      ],
      "text/markdown": [
       "153"
      ],
      "text/plain": [
       "[1] 153"
      ]
     },
     "metadata": {},
     "output_type": "display_data"
    }
   ],
   "source": [
    "nrow(df)"
   ]
  },
  {
   "cell_type": "code",
   "execution_count": 12,
   "metadata": {
    "vscode": {
     "languageId": "r"
    }
   },
   "outputs": [
    {
     "data": {
      "text/html": [
       "<table class=\"dataframe\">\n",
       "<caption>A data.frame: 2 × 6</caption>\n",
       "<thead>\n",
       "\t<tr><th></th><th scope=col>Ozone</th><th scope=col>Solar.R</th><th scope=col>Wind</th><th scope=col>Temp</th><th scope=col>Month</th><th scope=col>Day</th></tr>\n",
       "\t<tr><th></th><th scope=col>&lt;int&gt;</th><th scope=col>&lt;int&gt;</th><th scope=col>&lt;dbl&gt;</th><th scope=col>&lt;int&gt;</th><th scope=col>&lt;int&gt;</th><th scope=col>&lt;int&gt;</th></tr>\n",
       "</thead>\n",
       "<tbody>\n",
       "\t<tr><th scope=row>152</th><td>18</td><td>131</td><td> 8.0</td><td>76</td><td>9</td><td>29</td></tr>\n",
       "\t<tr><th scope=row>153</th><td>20</td><td>223</td><td>11.5</td><td>68</td><td>9</td><td>30</td></tr>\n",
       "</tbody>\n",
       "</table>\n"
      ],
      "text/latex": [
       "A data.frame: 2 × 6\n",
       "\\begin{tabular}{r|llllll}\n",
       "  & Ozone & Solar.R & Wind & Temp & Month & Day\\\\\n",
       "  & <int> & <int> & <dbl> & <int> & <int> & <int>\\\\\n",
       "\\hline\n",
       "\t152 & 18 & 131 &  8.0 & 76 & 9 & 29\\\\\n",
       "\t153 & 20 & 223 & 11.5 & 68 & 9 & 30\\\\\n",
       "\\end{tabular}\n"
      ],
      "text/markdown": [
       "\n",
       "A data.frame: 2 × 6\n",
       "\n",
       "| <!--/--> | Ozone &lt;int&gt; | Solar.R &lt;int&gt; | Wind &lt;dbl&gt; | Temp &lt;int&gt; | Month &lt;int&gt; | Day &lt;int&gt; |\n",
       "|---|---|---|---|---|---|---|\n",
       "| 152 | 18 | 131 |  8.0 | 76 | 9 | 29 |\n",
       "| 153 | 20 | 223 | 11.5 | 68 | 9 | 30 |\n",
       "\n"
      ],
      "text/plain": [
       "    Ozone Solar.R Wind Temp Month Day\n",
       "152 18    131      8.0 76   9     29 \n",
       "153 20    223     11.5 68   9     30 "
      ]
     },
     "metadata": {},
     "output_type": "display_data"
    }
   ],
   "source": [
    "tail(df, 2)"
   ]
  },
  {
   "cell_type": "code",
   "execution_count": 13,
   "metadata": {
    "vscode": {
     "languageId": "r"
    }
   },
   "outputs": [
    {
     "data": {
      "text/html": [
       "21"
      ],
      "text/latex": [
       "21"
      ],
      "text/markdown": [
       "21"
      ],
      "text/plain": [
       "[1] 21"
      ]
     },
     "metadata": {},
     "output_type": "display_data"
    }
   ],
   "source": [
    "df$Ozone[47]"
   ]
  },
  {
   "cell_type": "code",
   "execution_count": 19,
   "metadata": {
    "vscode": {
     "languageId": "r"
    }
   },
   "outputs": [
    {
     "data": {
      "text/html": [
       "42.1293103448276"
      ],
      "text/latex": [
       "42.1293103448276"
      ],
      "text/markdown": [
       "42.1293103448276"
      ],
      "text/plain": [
       "[1] 42.12931"
      ]
     },
     "metadata": {},
     "output_type": "display_data"
    }
   ],
   "source": [
    "mean(df$Ozone, na.rm = T)"
   ]
  },
  {
   "cell_type": "code",
   "execution_count": 24,
   "metadata": {
    "vscode": {
     "languageId": "r"
    }
   },
   "outputs": [
    {
     "data": {
      "text/html": [
       "212.8"
      ],
      "text/latex": [
       "212.8"
      ],
      "text/markdown": [
       "212.8"
      ],
      "text/plain": [
       "[1] 212.8"
      ]
     },
     "metadata": {},
     "output_type": "display_data"
    }
   ],
   "source": [
    "mean(subset(df$Solar.R, df$Ozone>31 & df$Temp>90))"
   ]
  },
  {
   "cell_type": "code",
   "execution_count": 30,
   "metadata": {
    "vscode": {
     "languageId": "r"
    }
   },
   "outputs": [
    {
     "data": {
      "text/html": [
       "115"
      ],
      "text/latex": [
       "115"
      ],
      "text/markdown": [
       "115"
      ],
      "text/plain": [
       "[1] 115"
      ]
     },
     "metadata": {},
     "output_type": "display_data"
    }
   ],
   "source": [
    "max(df$Ozone[df$Month == 5], na.rm = T)"
   ]
  },
  {
   "cell_type": "markdown",
   "metadata": {},
   "source": [
    "## Hello World\n",
    "<mark>Abheerav</mark>\n",
    "- data science\n",
    "- oops"
   ]
  },
  {
   "cell_type": "markdown",
   "metadata": {},
   "source": []
  }
 ],
 "metadata": {
  "kernelspec": {
   "display_name": "R",
   "language": "R",
   "name": "ir"
  },
  "language_info": {
   "codemirror_mode": "r",
   "file_extension": ".r",
   "mimetype": "text/x-r-source",
   "name": "R",
   "pygments_lexer": "r",
   "version": "4.3.2"
  }
 },
 "nbformat": 4,
 "nbformat_minor": 2
}
